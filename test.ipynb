{
 "cells": [
  {
   "cell_type": "code",
   "execution_count": 1,
   "metadata": {},
   "outputs": [],
   "source": [
    "import os\n",
    "import random"
   ]
  },
  {
   "cell_type": "code",
   "execution_count": 2,
   "metadata": {},
   "outputs": [],
   "source": [
    "os.system(\"sudoku.exe -c 1\")\n",
    "with open(\"sudoku.txt\", \"r\") as f:\n",
    "     sudoku=f.read()"
   ]
  },
  {
   "cell_type": "code",
   "execution_count": 3,
   "metadata": {},
   "outputs": [],
   "source": [
    "sudoku=sudoku.split(\"\\n\")\n",
    "sudoku=[x.split(\" \") for x in sudoku]"
   ]
  },
  {
   "cell_type": "code",
   "execution_count": 4,
   "metadata": {},
   "outputs": [
    {
     "data": {
      "text/plain": [
       "[['3', '4', '5', '1', '8', '9', '6', '2', '7'],\n",
       " ['1', '8', '9', '6', '2', '7', '3', '4', '5'],\n",
       " ['6', '2', '7', '3', '4', '5', '1', '8', '9'],\n",
       " ['4', '5', '3', '8', '9', '1', '2', '7', '6'],\n",
       " ['8', '9', '1', '2', '7', '6', '4', '5', '3'],\n",
       " ['2', '7', '6', '4', '5', '3', '8', '9', '1'],\n",
       " ['5', '3', '4', '9', '1', '8', '7', '6', '2'],\n",
       " ['9', '1', '8', '7', '6', '2', '5', '3', '4'],\n",
       " ['7', '6', '2', '5', '3', '4', '9', '1', '8']]"
      ]
     },
     "execution_count": 4,
     "metadata": {},
     "output_type": "execute_result"
    }
   ],
   "source": [
    "sudoku"
   ]
  },
  {
   "cell_type": "code",
   "execution_count": 14,
   "metadata": {},
   "outputs": [],
   "source": [
    "space=random.sample(range(81),random.randint(30,60))\n",
    "space.sort()"
   ]
  },
  {
   "cell_type": "code",
   "execution_count": 20,
   "metadata": {},
   "outputs": [],
   "source": [
    "l=[x for x in sudoku[1]]"
   ]
  },
  {
   "cell_type": "code",
   "execution_count": 26,
   "metadata": {},
   "outputs": [
    {
     "data": {
      "text/plain": [
       "3"
      ]
     },
     "execution_count": 26,
     "metadata": {},
     "output_type": "execute_result"
    }
   ],
   "source": [
    "len(set([1,2,3]))"
   ]
  },
  {
   "cell_type": "code",
   "execution_count": 9,
   "metadata": {},
   "outputs": [],
   "source": [
    "with open(\"sudoku.txt\", \"r\") as f:\n",
    "     sudoku=f.read()\n",
    "sudoku=sudoku.split(\"\\n\\n\")"
   ]
  },
  {
   "cell_type": "code",
   "execution_count": 11,
   "metadata": {},
   "outputs": [
    {
     "data": {
      "text/plain": [
       "1000"
      ]
     },
     "execution_count": 11,
     "metadata": {},
     "output_type": "execute_result"
    }
   ],
   "source": [
    "len(set(sudoku))"
   ]
  },
  {
   "cell_type": "code",
   "execution_count": null,
   "metadata": {},
   "outputs": [],
   "source": []
  }
 ],
 "metadata": {
  "kernelspec": {
   "display_name": "Python 3.7.1 64-bit ('base': conda)",
   "language": "python",
   "name": "python37164bitbasecondaaac534ff73b74d8797e10e251f57b8b6"
  },
  "language_info": {
   "codemirror_mode": {
    "name": "ipython",
    "version": 3
   },
   "file_extension": ".py",
   "mimetype": "text/x-python",
   "name": "python",
   "nbconvert_exporter": "python",
   "pygments_lexer": "ipython3",
   "version": "3.7.1"
  }
 },
 "nbformat": 4,
 "nbformat_minor": 2
}
